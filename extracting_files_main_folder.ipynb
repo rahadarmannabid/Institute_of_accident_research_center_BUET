{
 "cells": [
  {
   "cell_type": "code",
   "execution_count": 22,
   "metadata": {},
   "outputs": [],
   "source": [
    "import os\n",
    "import numpy as np\n",
    "from zipfile import ZipFile\n",
    "import tarfile\n",
    "\n",
    "\n"
   ]
  },
  {
   "cell_type": "code",
   "execution_count": 23,
   "metadata": {},
   "outputs": [
    {
     "name": "stdout",
     "output_type": "stream",
     "text": [
      "co2c0000337.tar.gz\n",
      "co2c0000338.tar.gz\n",
      "co2c0000339.tar.gz\n",
      "co2c0000340.tar.gz\n",
      "co2c0000341.tar.gz\n",
      "co2c0000342.tar.gz\n",
      "co2c0000344.tar.gz\n",
      "co2c0000345.tar.gz\n",
      "co2c0000346.tar.gz\n",
      "co2c0000347.tar.gz\n",
      "co2c0000348.tar.gz\n",
      "co2c0000351.tar.gz\n",
      "co2c0000352.tar.gz\n",
      "co2c0000354.tar.gz\n",
      "co2c0000355.tar.gz\n",
      "co2c0000356.tar.gz\n",
      "co2c0000357.tar.gz\n",
      "co2c0000359.tar.gz\n",
      "co2c0000362.tar.gz\n",
      "co2c0000363.tar.gz\n",
      "co2c0000364.tar.gz\n",
      "co2c0000367.tar.gz\n",
      "co2c0000370.tar.gz\n",
      "co2c0000371.tar.gz\n",
      "co2c0000373.tar.gz\n",
      "co2c0000374.tar.gz\n",
      "co2c0000378.tar.gz\n",
      "co2c0000379.tar.gz\n",
      "co2c0000381.tar.gz\n",
      "co2c0000382.tar.gz\n",
      "co2c0000383.tar.gz\n",
      "co2c0000384.tar.gz\n",
      "co2c0000387.tar.gz\n",
      "co2c0000388.tar.gz\n",
      "co2c0000389.tar.gz\n",
      "co2c0000390.tar.gz\n",
      "co2c0000391.tar.gz\n",
      "co2c0000392.tar.gz\n",
      "co2c0000393.tar.gz\n",
      "co2c0000394.tar.gz\n",
      "co2c0000395.tar.gz\n",
      "co2c0000396.tar.gz\n",
      "co2c0000397.tar.gz\n",
      "co2c1000367.tar.gz\n"
     ]
    }
   ],
   "source": [
    "data = np.zeros(shape=(100))\n",
    "for root, dirs, files in os.walk(\"./controlled/\"):\n",
    "    for filename in files:\n",
    "        fname=\"./controlled/\"+filename\n",
    "        if fname.endswith(\"tar.gz\"):\n",
    "            tar = tarfile.open(fname, \"r:gz\")\n",
    "            tar.extractall()\n",
    "            tar.close()\n",
    "        elif fname.endswith(\"tar\"):\n",
    "            tar = tarfile.open(fname, \"r:\")\n",
    "            tar.extractall()\n",
    "            tar.close()\n",
    "        print(filename)\n",
    "        \n"
   ]
  },
  {
   "cell_type": "code",
   "execution_count": 24,
   "metadata": {},
   "outputs": [
    {
     "name": "stdout",
     "output_type": "stream",
     "text": [
      "Reinitialized existing Git repository in C:/Users/User/Desktop/Course/Institute of Accident Research BUET/.git/\n"
     ]
    },
    {
     "name": "stderr",
     "output_type": "stream",
     "text": [
      "fatal: pathspec 'README.md' did not match any files\n"
     ]
    },
    {
     "name": "stdout",
     "output_type": "stream",
     "text": [
      "On branch main\n",
      "Your branch is up to date with 'origin/main'.\n",
      "\n",
      "Untracked files:\n",
      "  (use \"git add <file>...\" to include in what will be committed)\n",
      "\t.ipynb_checkpoints/extracting_files_main_folder-checkpoint.ipynb\n",
      "\tcontrolled/\n",
      "\tdesktop.ini\n",
      "\textracting_files_main_folder.ipynb\n",
      "\n",
      "nothing added to commit but untracked files present (use \"git add\" to track)\n"
     ]
    },
    {
     "name": "stderr",
     "output_type": "stream",
     "text": [
      "error: remote origin already exists.\n"
     ]
    },
    {
     "name": "stdout",
     "output_type": "stream",
     "text": [
      "Branch 'main' set up to track remote branch 'main' from 'origin'.\n"
     ]
    },
    {
     "name": "stderr",
     "output_type": "stream",
     "text": [
      "Everything up-to-date\n"
     ]
    }
   ],
   "source": [
    "!git init\n",
    "!git add README.md\n",
    "!git commit -m \"first commit\"\n",
    "!git branch -M main\n",
    "!git remote add origin https://github.com/rahadarmannabid/Institute_of_accident_research_center_BUET.git\n",
    "!git push -u origin main"
   ]
  },
  {
   "cell_type": "code",
   "execution_count": null,
   "metadata": {},
   "outputs": [],
   "source": []
  },
  {
   "cell_type": "code",
   "execution_count": 3,
   "metadata": {},
   "outputs": [],
   "source": []
  },
  {
   "cell_type": "code",
   "execution_count": null,
   "metadata": {},
   "outputs": [],
   "source": []
  },
  {
   "cell_type": "code",
   "execution_count": null,
   "metadata": {},
   "outputs": [],
   "source": []
  }
 ],
 "metadata": {
  "kernelspec": {
   "display_name": "Python 3",
   "language": "python",
   "name": "python3"
  },
  "language_info": {
   "codemirror_mode": {
    "name": "ipython",
    "version": 3
   },
   "file_extension": ".py",
   "mimetype": "text/x-python",
   "name": "python",
   "nbconvert_exporter": "python",
   "pygments_lexer": "ipython3",
   "version": "3.8.5"
  }
 },
 "nbformat": 4,
 "nbformat_minor": 4
}
